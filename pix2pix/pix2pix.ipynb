{
 "cells": [
  {
   "cell_type": "code",
   "source": [
    "import torch\n",
    "import torch.nn as nn\n",
    "import torchvision\n",
    "\n",
    "import torch.optim as optim\n",
    "from torch.utils.data import DataLoader,Dataset\n",
    "\n",
    "import torchvision.transforms as transforms\n",
    "from PIL import Image\n",
    "\n",
    "from tqdm import tqdm\n",
    "import os\n",
    "import time\n",
    "import numpy as np\n",
    "import matplotlib.pyplot as plt\n",
    "%matplotlib inline\n"
   ],
   "metadata": {
    "id": "cQLYegNFjXmu",
    "executionInfo": {
     "status": "ok",
     "timestamp": 1643549998768,
     "user_tz": -480,
     "elapsed": 6165,
     "user": {
      "displayName": "tao shao",
      "photoUrl": "https://lh3.googleusercontent.com/a-/AOh14Gh7VKvujGnKvxsIt7poP71nLcXe9HHvoq9IsZSw=s64",
      "userId": "08804023574068554959"
     }
    }
   },
   "execution_count": 3,
   "outputs": []
  },
  {
   "cell_type": "markdown",
   "source": [
    "## download dataset"
   ],
   "metadata": {
    "collapsed": false
   }
  },
  {
   "cell_type": "code",
   "source": [
    "! wget http://efrosgans.eecs.berkeley.edu/pix2pix/datasets/maps.tar.gz && tar -xzf ./maps.tar.gz"
   ],
   "metadata": {
    "colab": {
     "base_uri": "https://localhost:8080/"
    },
    "id": "vVXaGVGakUqo",
    "executionInfo": {
     "status": "ok",
     "timestamp": 1643550152743,
     "user_tz": -480,
     "elapsed": 153997,
     "user": {
      "displayName": "tao shao",
      "photoUrl": "https://lh3.googleusercontent.com/a-/AOh14Gh7VKvujGnKvxsIt7poP71nLcXe9HHvoq9IsZSw=s64",
      "userId": "08804023574068554959"
     }
    },
    "outputId": "d5907e60-ef89-4e98-ae6b-66973146d396"
   },
   "execution_count": 2,
   "outputs": [
    {
     "output_type": "stream",
     "name": "stdout",
     "text": [
      "--2022-01-30 13:39:57--  http://efrosgans.eecs.berkeley.edu/pix2pix/datasets/maps.tar.gz\n",
      "Resolving efrosgans.eecs.berkeley.edu (efrosgans.eecs.berkeley.edu)... 128.32.244.190\n",
      "Connecting to efrosgans.eecs.berkeley.edu (efrosgans.eecs.berkeley.edu)|128.32.244.190|:80... connected.\n",
      "HTTP request sent, awaiting response... 200 OK\n",
      "Length: 250242400 (239M) [application/x-gzip]\n",
      "Saving to: ‘maps.tar.gz’\n",
      "\n",
      "maps.tar.gz         100%[===================>] 238.65M   969KB/s    in 2m 33s  \n",
      "\n",
      "2022-01-30 13:42:31 (1.56 MB/s) - ‘maps.tar.gz’ saved [250242400/250242400]\n",
      "\n"
     ]
    }
   ]
  },
  {
   "cell_type": "markdown",
   "source": [
    "## define models"
   ],
   "metadata": {
    "collapsed": false
   }
  },
  {
   "cell_type": "markdown",
   "source": [
    "<img src=\"./../img/pix2pix.png\">"
   ],
   "metadata": {
    "collapsed": false
   }
  },
  {
   "cell_type": "markdown",
   "source": [
    "<img src=\"./../img/unet.png\" width=720>"
   ],
   "metadata": {
    "collapsed": false
   }
  },
  {
   "cell_type": "markdown",
   "source": [
    "first, we need to keep in mind that: pix2pix need an input x and according label\n",
    "\n",
    "pix2pix's generator:\n",
    "1. take a x (N, 3, 256, 256) as input to generate a according img (N, 3, 256, 256)\n",
    "2. we then put the x and output into disc\n",
    "\n",
    "discriminator:\n",
    "1. we will put the x and the generated fake image or the label into disc\n",
    "2. the disc will output a patch (N, 1, 30, 30)\n",
    "3. we use the simple GAN loss to do gradient descent\n",
    "\n",
    "the architecture of discriminator is nothing new, what is different from simple GAN is: Simple GAN output a single scalar, while pix2pix output a patch to indicate the specific part of generated image is fake or not.\n",
    "\n",
    "the architecture of gen is much like the unet, 1. having the down block and the up block 2. concat previous layer's output and current layer's output and put them into conv layers.\n",
    "\n",
    "the last thing to mention is that: the loss of gen is made up of two parts:\n",
    "1. the common disc out part\n",
    "2. use a L1 LOSS between generated image and label to make the fake image more implict"
   ],
   "metadata": {
    "collapsed": false
   }
  },
  {
   "cell_type": "code",
   "execution_count": 16,
   "metadata": {
    "id": "A0Tm4xq1luC0",
    "executionInfo": {
     "status": "ok",
     "timestamp": 1643550155674,
     "user_tz": -480,
     "elapsed": 93,
     "user": {
      "displayName": "tao shao",
      "photoUrl": "https://lh3.googleusercontent.com/a-/AOh14Gh7VKvujGnKvxsIt7poP71nLcXe9HHvoq9IsZSw=s64",
      "userId": "08804023574068554959"
     }
    }
   },
   "outputs": [],
   "source": [
    "class Gen(nn.Module):\n",
    "    \"\"\"\n",
    "    input: (N, 3, 256, 256) input image\n",
    "    output: (N, 3, 256, 256) image generated\n",
    "\n",
    "    arch:\n",
    "          (N, 3, 256, 256)\n",
    "                ||\n",
    "                \\/\n",
    "        1. init_down\n",
    "          (N, 64, 128, 128) (*1)\n",
    "                ||\n",
    "                \\/\n",
    "        2. down_block\n",
    "        # (N, 128, 64, 64) (*2)\n",
    "        # (N, 256, 32, 32) (*3)\n",
    "        # (N, 512, 16, 16) (*4)\n",
    "        # (N, 512, 8, 8)   (*5)\n",
    "        # (N, 512, 4, 4)   (*6)\n",
    "        #(N, 512, 2, 2)    (*7)\n",
    "                ||\n",
    "                \\/ \n",
    "        3. bottleneck\n",
    "          (N, 512, 1, 1)\n",
    "                ||\n",
    "                \\/\n",
    "        4. up_block\n",
    "           conv  out         |      concat with\n",
    "        (N, 512, 2, 2)       |    (*7) (N, 1024, 2, 2)\n",
    "        (N, 512, 4, 4)       |    (*6) (N, 1024, 4, 4)\n",
    "        (N, 512, 8, 8)       |    (*5) (N, 1024, 8, 8)\n",
    "        (N, 512, 16, 16)     |    (*4) (N, 1024, 16, 16)\n",
    "        (N, 256, 32, 32)     |    (*3) (N, 512, 32, 32)\n",
    "        (N, 128, 64, 64)     |    (*2) (N, 256, 64, 64)\n",
    "        (N, 64, 128, 128)    |    (*1) (N, 128, 128, 128)\n",
    "                ||\n",
    "                \\/\n",
    "        5. final_up\n",
    "          (N, 3, 256, 256)  \n",
    "\n",
    "    \"\"\"\n",
    "    def __init__(self, img_channel) -> None:\n",
    "        super(Gen, self).__init__()\n",
    "        # input: (N, 3, 256, 256)\n",
    "        self.init_down = nn.Sequential(\n",
    "            nn.Conv2d(img_channel, 64, (4,4), (2,2), 1),\n",
    "            nn.LeakyReLU(0.2))\n",
    "        self.down_lst = [64, 128, 256, 512, 512, 512, 512]\n",
    "        self.bottleneck = self._conv_block(512, 512, 4, 2, 1, norm=False, dropout=0.5)\n",
    "        self.up_lst = [[512, 512],\n",
    "                 [512*2, 512],\n",
    "                 [512*2, 512],\n",
    "                 [512*2, 512],\n",
    "                 [512*2, 256],\n",
    "                 [256*2, 128],\n",
    "                 [128*2, 64]]\n",
    "\n",
    "        self.final_up = nn.Sequential(\n",
    "            nn.Upsample(size=256),\n",
    "            nn.Conv2d(64*2, img_channel, 3, 1, 1),\n",
    "            nn.Tanh()\n",
    "        )\n",
    "\n",
    "        self.down_layers = self._down_block()\n",
    "        self.up_layers = self._up_block()\n",
    "    \n",
    "    def _conv_block(self, inchannel, outchannel, k_s, s, p, norm, dropout=0):\n",
    "        # in down block\n",
    "        # 1. use instance norm and leakyrelu\n",
    "        # 2. first layer do not have instance norm\n",
    "        # 3. the second and third layer do not have dropout\n",
    "        # 4. later layers follow struct of: conv, instance norm, leakyrelu, dropout\n",
    "        layers = []\n",
    "        layers.append(nn.Conv2d(inchannel, outchannel, k_s, s, p))\n",
    "        if norm == True:\n",
    "            layers.append(nn.InstanceNorm2d(outchannel))\n",
    "        layers.append(nn.LeakyReLU(0.2))\n",
    "        if dropout != 0:\n",
    "            layers.append(nn.Dropout(dropout))\n",
    "        return nn.Sequential(*layers)\n",
    "\n",
    "\n",
    "    def _down_block(self):\n",
    "        down_layers = []\n",
    "        for i in range(len(self.down_lst) - 1):\n",
    "            inchannel = self.down_lst[i]\n",
    "            outchannel = self.down_lst[i + 1]\n",
    "            down_layers.append(self._conv_block(inchannel, outchannel, 4, 2, 1,\n",
    "                                                norm=False if i ==len(self.down_lst) - 1 else True,\n",
    "                                                dropout=0 if i in [0,1] else 0.5))\n",
    "        return nn.Sequential(*down_layers)\n",
    "\n",
    "    def _deconv_block(self, inchannel, outchannel, k_s, s, p, dropout):\n",
    "        # in up block:\n",
    "        # 1. use convtranspose, instance norm, relu\n",
    "        # 2. the last 3 layers do not have drop out\n",
    "        # 3. all layers have norm\n",
    "        # 4. all convtranspose do not have bias\n",
    "        layers = []\n",
    "        layers.append(nn.ConvTranspose2d(inchannel, outchannel, k_s, s, p, bias=False))\n",
    "        layers.append(nn.InstanceNorm2d(outchannel))\n",
    "        layers.append(nn.ReLU())\n",
    "        if dropout != 0:\n",
    "            layers.append(nn.Dropout(dropout))\n",
    "        return nn.Sequential(*layers)\n",
    "\n",
    "    def _up_block(self):\n",
    "        up_layers = []\n",
    "        for i in range(len(self.up_lst)):\n",
    "            inchannel = self.up_lst[i][0]\n",
    "            outchannel = self.up_lst[i][1]\n",
    "            up_layers.append(self._deconv_block(inchannel, outchannel, 4, 2, 1, 0.5 if i <= len(self.up_lst)-4 else 0))\n",
    "        return nn.Sequential(*up_layers)\n",
    "\n",
    "    def forward(self, x):\n",
    "        x = self.init_down(x)\n",
    "        down_data_lst = []\n",
    "        down_data_lst.append(x)\n",
    "        for layer in self.down_layers:\n",
    "            x = layer(x)\n",
    "            down_data_lst.append(x)\n",
    "        \n",
    "        n = len(down_data_lst)\n",
    "        x = self.bottleneck(x)\n",
    "        for i, layer in  enumerate(self.up_layers):\n",
    "            x = layer(x)\n",
    "            x = torch.cat((down_data_lst[n - 1 - i], x), dim=1)\n",
    "\n",
    "        x = self.final_up(x)\n",
    "        return x\n"
   ]
  },
  {
   "cell_type": "code",
   "execution_count": 6,
   "metadata": {
    "id": "7GHovKdFl5u4",
    "executionInfo": {
     "status": "ok",
     "timestamp": 1643550155679,
     "user_tz": -480,
     "elapsed": 89,
     "user": {
      "displayName": "tao shao",
      "photoUrl": "https://lh3.googleusercontent.com/a-/AOh14Gh7VKvujGnKvxsIt7poP71nLcXe9HHvoq9IsZSw=s64",
      "userId": "08804023574068554959"
     }
    }
   },
   "outputs": [],
   "source": [
    "class Disc(nn.Module):\n",
    "    \"\"\"\n",
    "    input: (N, 6, 256, 256) x, y concat\n",
    "    output: (N, 1, 30, 30)\n",
    "    \"\"\"\n",
    "    def __init__(self, img_channel) -> None:\n",
    "        super(Disc, self).__init__()\n",
    "        # conv block's: inchannel, outchannel, kernel_size, stride, padding\n",
    "                            # (6, 256, 256) \n",
    "        self.config_lst = [[img_channel*2, 64, 4, 2, 1],\n",
    "                            # (64, 128, 128)\n",
    "                            [64, 128, 4, 2, 1],\n",
    "                            # (128, 64, 64)\n",
    "                            [128, 256, 4, 2, 1],\n",
    "                            # (256, 32, 32)\n",
    "                            [256, 512, 4, 1, 1],\n",
    "                            # (512, 31, 31)\n",
    "                            [512, 1, 4, 1, 1]]\n",
    "                            # (1, 30, 30)\n",
    "        self.conv_layers = self._create_conv_layers()\n",
    "\n",
    "    def _create_conv_layers(self):\n",
    "        layers_lst = []\n",
    "        # first layer does not have a instance norm\n",
    "        # last layer is just a conv\n",
    "        # also last layer's conv does not have bias\n",
    "        # others has struct: conv, instance_norm Leakyrelu\n",
    "        for i in range(len(self.config_lst) - 1):\n",
    "            layers_lst.append(self._conv_block(self.config_lst[i][0],\n",
    "                              self.config_lst[i][1],\n",
    "                              self.config_lst[i][2],\n",
    "                              self.config_lst[i][3],\n",
    "                              self.config_lst[i][4], False if i == 0 else True))\n",
    "        layers_lst.append(nn.Conv2d(512, 1, (4,4), (1,1), 1, bias=False))\n",
    "        return nn.Sequential(*layers_lst)\n",
    "\n",
    "\n",
    "    def _conv_block(self, inchannel, outchannel, k_s, s, p, norm):\n",
    "        layers = []\n",
    "        layers.append(nn.Conv2d(inchannel, outchannel, k_s, s, p))\n",
    "        if norm == True:\n",
    "            layers.append(nn.InstanceNorm2d(outchannel))\n",
    "        layers.append(nn.LeakyReLU(0.2))\n",
    "        return nn.Sequential(*layers)\n",
    "\n",
    "    def forward(self, x):\n",
    "        return self.conv_layers(x)\n"
   ]
  },
  {
   "cell_type": "code",
   "source": [
    "LEARNING_RATE_GEN = 2e-4\n",
    "LEARNING_RATE_DISC = 2e-4\n",
    "NUM_EPOCH = 15\n",
    "BATCH_SIZE = 64\n",
    "DEVICE = \"cuda\" if torch.cuda.is_available() else \"cpu\""
   ],
   "metadata": {
    "id": "hcPZLiALl0Kg",
    "executionInfo": {
     "status": "ok",
     "timestamp": 1643550155683,
     "user_tz": -480,
     "elapsed": 86,
     "user": {
      "displayName": "tao shao",
      "photoUrl": "https://lh3.googleusercontent.com/a-/AOh14Gh7VKvujGnKvxsIt7poP71nLcXe9HHvoq9IsZSw=s64",
      "userId": "08804023574068554959"
     }
    }
   },
   "execution_count": 7,
   "outputs": []
  },
  {
   "cell_type": "code",
   "source": [
    "class MapDataset(Dataset):\n",
    "  def __init__(self, path, transform, train) -> None:\n",
    "    self.path = path\n",
    "    self.img_lst = os.listdir(self.path)\n",
    "    self.transform = transform\n",
    "    self.train = train\n",
    "  def __getitem__(self, idx):\n",
    "    if self.train == True:\n",
    "      img = Image.open(f\"{self.path}{self.img_lst[idx]}\")\n",
    "      if self.transform:\n",
    "        img = self.transform(img)\n",
    "      x = img[:, :, :256]\n",
    "      y = img[:, :, 256:]\n",
    "      return x, y\n",
    "    if self.train == False:\n",
    "      img = Image.open(f\"{self.path}{self.img_lst[idx]}\")\n",
    "      if self.transform:\n",
    "        img = self.transform(img)\n",
    "      x = img[:, :, :256]\n",
    "      y = img[:, :, 256:]\n",
    "      return x, y\n",
    "\n",
    "  def __len__(self):\n",
    "    return len(self.img_lst)\n",
    "\n"
   ],
   "metadata": {
    "id": "SmIlsp8yGai3",
    "executionInfo": {
     "status": "ok",
     "timestamp": 1643550155688,
     "user_tz": -480,
     "elapsed": 84,
     "user": {
      "displayName": "tao shao",
      "photoUrl": "https://lh3.googleusercontent.com/a-/AOh14Gh7VKvujGnKvxsIt7poP71nLcXe9HHvoq9IsZSw=s64",
      "userId": "08804023574068554959"
     }
    }
   },
   "execution_count": 8,
   "outputs": []
  },
  {
   "cell_type": "code",
   "source": [
    "train_transform = transforms.Compose([\n",
    "    transforms.Resize((256, 512)),\n",
    "    transforms.ToTensor(),\n",
    "    transforms.Normalize((0.5, 0.5, 0.5), (0.5, 0.5, 0.5))           \n",
    "])\n",
    "train_dataset = MapDataset('./maps/train/', train_transform, True)\n",
    "train_dataloader = DataLoader(train_dataset, batch_size=BATCH_SIZE, shuffle=True)\n",
    "\n",
    "from utils import *\n",
    "train_x, train_y = next(iter(train_dataloader))\n",
    "plot_img_tensor(torch.cat((train_x,train_y), dim=2))"
   ],
   "metadata": {
    "colab": {
     "base_uri": "https://localhost:8080/",
     "height": 296
    },
    "id": "aGBSUwsqHFIQ",
    "executionInfo": {
     "status": "ok",
     "timestamp": 1643550157640,
     "user_tz": -480,
     "elapsed": 2029,
     "user": {
      "displayName": "tao shao",
      "photoUrl": "https://lh3.googleusercontent.com/a-/AOh14Gh7VKvujGnKvxsIt7poP71nLcXe9HHvoq9IsZSw=s64",
      "userId": "08804023574068554959"
     }
    },
    "outputId": "43ad9986-7947-43f8-bea5-f40a4647911b"
   },
   "execution_count": 9,
   "outputs": [
    {
     "output_type": "stream",
     "name": "stderr",
     "text": [
      "Clipping input data to the valid range for imshow with RGB data ([0..1] for floats or [0..255] for integers).\n",
      "Clipping input data to the valid range for imshow with RGB data ([0..1] for floats or [0..255] for integers).\n"
     ]
    },
    {
     "output_type": "stream",
     "name": "stdout",
     "text": [
      "torch.Size([64, 3, 256, 256]) torch.Size([64, 3, 256, 256])\n"
     ]
    },
    {
     "output_type": "execute_result",
     "data": {
      "text/plain": [
       "<matplotlib.image.AxesImage at 0x7fec7bc12450>"
      ]
     },
     "metadata": {},
     "execution_count": 9
    },
    {
     "output_type": "display_data",
     "data": {
      "image/png": "[encoded data removed]",
      "text/plain": [
       "<Figure size 432x288 with 2 Axes>"
      ]
     },
     "metadata": {
      "needs_background": "light"
     }
    }
   ]
  },
  {
   "cell_type": "code",
   "source": [
    "val_transform = transforms.Compose([\n",
    "    transforms.Resize((256, 512)),\n",
    "    transforms.ToTensor(),\n",
    "    transforms.Normalize((0.5, 0.5, 0.5), (0.5, 0.5, 0.5))           \n",
    "])\n",
    "val_dataset = MapDataset('./maps/val/', val_transform, False)\n",
    "val_dataloader = DataLoader(val_dataset, batch_size=32, shuffle=False)\n",
    "\n",
    "test_x, test_y = next(iter(val_dataloader))\n",
    "plot_img_tensor(torch.cat((test_x, test_y), dim=2))"
   ],
   "metadata": {
    "colab": {
     "base_uri": "https://localhost:8080/",
     "height": 278
    },
    "id": "eLnhMcZYL2qB",
    "executionInfo": {
     "status": "ok",
     "timestamp": 1643550159009,
     "user_tz": -480,
     "elapsed": 1396,
     "user": {
      "displayName": "tao shao",
      "photoUrl": "https://lh3.googleusercontent.com/a-/AOh14Gh7VKvujGnKvxsIt7poP71nLcXe9HHvoq9IsZSw=s64",
      "userId": "08804023574068554959"
     }
    },
    "outputId": "693a8056-748e-45d3-999b-69c33d372012"
   },
   "execution_count": 10,
   "outputs": [
    {
     "output_type": "stream",
     "name": "stderr",
     "text": [
      "Clipping input data to the valid range for imshow with RGB data ([0..1] for floats or [0..255] for integers).\n"
     ]
    },
    {
     "output_type": "stream",
     "name": "stdout",
     "text": [
      "torch.Size([32, 3, 256, 256]) torch.Size([32, 3, 256, 256])\n"
     ]
    },
    {
     "output_type": "execute_result",
     "data": {
      "text/plain": [
       "<matplotlib.image.AxesImage at 0x7fec7b62fcd0>"
      ]
     },
     "metadata": {},
     "execution_count": 10
    },
    {
     "output_type": "display_data",
     "data": {
      "image/png": "[encoded data removed]",
      "text/plain": [
       "<Figure size 432x288 with 2 Axes>"
      ]
     },
     "metadata": {
      "needs_background": "light"
     }
    }
   ]
  },
  {
   "cell_type": "code",
   "source": [
    "gen = Gen(3).to(DEVICE)\n",
    "disc = Disc(3).to(DEVICE)\n",
    "\n",
    "opt_gen = optim.Adam(gen.parameters(), lr=LEARNING_RATE_GEN, betas=(0.5, 0.999))\n",
    "opt_disc = optim.Adam(disc.parameters(), lr=LEARNING_RATE_DISC, betas=(0.5, 0.999))\n",
    "\n",
    "gan_criterion = nn.MSELoss()\n",
    "l1 = nn.L1Loss()\n",
    "model_checkpoint = {\n",
    "    \"gen\":None,\n",
    "    \"disc\":None\n",
    "}"
   ],
   "metadata": {
    "id": "Q-7fzKc9lNFO",
    "colab": {
     "base_uri": "https://localhost:8080/"
    },
    "executionInfo": {
     "status": "ok",
     "timestamp": 1643550166774,
     "user_tz": -480,
     "elapsed": 7800,
     "user": {
      "displayName": "tao shao",
      "photoUrl": "https://lh3.googleusercontent.com/a-/AOh14Gh7VKvujGnKvxsIt7poP71nLcXe9HHvoq9IsZSw=s64",
      "userId": "08804023574068554959"
     }
    },
    "outputId": "107f60d0-6130-48f9-a574-387c1537eb25"
   },
   "execution_count": 11,
   "outputs": [
    {
     "output_type": "stream",
     "name": "stdout",
     "text": [
      "Gen(\n",
      "  (init_down): Conv2d(3, 64, kernel_size=(4, 4), stride=(2, 2), padding=(1, 1))\n",
      "  (bottleneck): Conv2d(512, 512, kernel_size=(4, 4), stride=(2, 2), padding=(1, 1))\n",
      "  (final_up): ConvTranspose2d(128, 3, kernel_size=(4, 4), stride=(2, 2), padding=(1, 1))\n",
      "  (down_layers): Sequential(\n",
      "    (0): Sequential(\n",
      "      (0): Conv2d(64, 128, kernel_size=(4, 4), stride=(2, 2), padding=(1, 1))\n",
      "      (1): BatchNorm2d(128, eps=1e-05, momentum=0.1, affine=True, track_running_stats=True)\n",
      "      (2): ReLU()\n",
      "    )\n",
      "    (1): Sequential(\n",
      "      (0): Conv2d(128, 256, kernel_size=(4, 4), stride=(2, 2), padding=(1, 1))\n",
      "      (1): BatchNorm2d(256, eps=1e-05, momentum=0.1, affine=True, track_running_stats=True)\n",
      "      (2): ReLU()\n",
      "    )\n",
      "    (2): Sequential(\n",
      "      (0): Conv2d(256, 512, kernel_size=(4, 4), stride=(2, 2), padding=(1, 1))\n",
      "      (1): BatchNorm2d(512, eps=1e-05, momentum=0.1, affine=True, track_running_stats=True)\n",
      "      (2): ReLU()\n",
      "    )\n",
      "    (3): Sequential(\n",
      "      (0): Conv2d(512, 512, kernel_size=(4, 4), stride=(2, 2), padding=(1, 1))\n",
      "      (1): BatchNorm2d(512, eps=1e-05, momentum=0.1, affine=True, track_running_stats=True)\n",
      "      (2): ReLU()\n",
      "    )\n",
      "    (4): Sequential(\n",
      "      (0): Conv2d(512, 512, kernel_size=(4, 4), stride=(2, 2), padding=(1, 1))\n",
      "      (1): BatchNorm2d(512, eps=1e-05, momentum=0.1, affine=True, track_running_stats=True)\n",
      "      (2): ReLU()\n",
      "    )\n",
      "    (5): Sequential(\n",
      "      (0): Conv2d(512, 512, kernel_size=(4, 4), stride=(2, 2), padding=(1, 1))\n",
      "      (1): BatchNorm2d(512, eps=1e-05, momentum=0.1, affine=True, track_running_stats=True)\n",
      "      (2): ReLU()\n",
      "    )\n",
      "  )\n",
      "  (up_layers): Sequential(\n",
      "    (0): Sequential(\n",
      "      (0): ConvTranspose2d(512, 512, kernel_size=(4, 4), stride=(2, 2), padding=(1, 1))\n",
      "      (1): BatchNorm2d(512, eps=1e-05, momentum=0.1, affine=True, track_running_stats=True)\n",
      "      (2): ReLU()\n",
      "    )\n",
      "    (1): Sequential(\n",
      "      (0): ConvTranspose2d(1024, 512, kernel_size=(4, 4), stride=(2, 2), padding=(1, 1))\n",
      "      (1): BatchNorm2d(512, eps=1e-05, momentum=0.1, affine=True, track_running_stats=True)\n",
      "      (2): ReLU()\n",
      "    )\n",
      "    (2): Sequential(\n",
      "      (0): ConvTranspose2d(1024, 512, kernel_size=(4, 4), stride=(2, 2), padding=(1, 1))\n",
      "      (1): BatchNorm2d(512, eps=1e-05, momentum=0.1, affine=True, track_running_stats=True)\n",
      "      (2): ReLU()\n",
      "    )\n",
      "    (3): Sequential(\n",
      "      (0): ConvTranspose2d(1024, 512, kernel_size=(4, 4), stride=(2, 2), padding=(1, 1))\n",
      "      (1): BatchNorm2d(512, eps=1e-05, momentum=0.1, affine=True, track_running_stats=True)\n",
      "      (2): ReLU()\n",
      "    )\n",
      "    (4): Sequential(\n",
      "      (0): ConvTranspose2d(1024, 256, kernel_size=(4, 4), stride=(2, 2), padding=(1, 1))\n",
      "      (1): BatchNorm2d(256, eps=1e-05, momentum=0.1, affine=True, track_running_stats=True)\n",
      "      (2): ReLU()\n",
      "    )\n",
      "    (5): Sequential(\n",
      "      (0): ConvTranspose2d(512, 128, kernel_size=(4, 4), stride=(2, 2), padding=(1, 1))\n",
      "      (1): BatchNorm2d(128, eps=1e-05, momentum=0.1, affine=True, track_running_stats=True)\n",
      "      (2): ReLU()\n",
      "    )\n",
      "    (6): Sequential(\n",
      "      (0): ConvTranspose2d(256, 64, kernel_size=(4, 4), stride=(2, 2), padding=(1, 1))\n",
      "      (1): BatchNorm2d(64, eps=1e-05, momentum=0.1, affine=True, track_running_stats=True)\n",
      "      (2): ReLU()\n",
      "    )\n",
      "  )\n",
      ") Disc(\n",
      "  (conv_layers): Sequential(\n",
      "    (0): Sequential(\n",
      "      (0): Conv2d(6, 64, kernel_size=(4, 4), stride=(2, 2), padding=(1, 1))\n",
      "      (1): BatchNorm2d(64, eps=1e-05, momentum=0.1, affine=True, track_running_stats=True)\n",
      "      (2): ReLU()\n",
      "    )\n",
      "    (1): Sequential(\n",
      "      (0): Conv2d(64, 128, kernel_size=(4, 4), stride=(2, 2), padding=(1, 1))\n",
      "      (1): BatchNorm2d(128, eps=1e-05, momentum=0.1, affine=True, track_running_stats=True)\n",
      "      (2): ReLU()\n",
      "    )\n",
      "    (2): Sequential(\n",
      "      (0): Conv2d(128, 256, kernel_size=(4, 4), stride=(2, 2), padding=(1, 1))\n",
      "      (1): BatchNorm2d(256, eps=1e-05, momentum=0.1, affine=True, track_running_stats=True)\n",
      "      (2): ReLU()\n",
      "    )\n",
      "    (3): Sequential(\n",
      "      (0): Conv2d(256, 512, kernel_size=(4, 4), stride=(1, 1), padding=(1, 1))\n",
      "      (1): BatchNorm2d(512, eps=1e-05, momentum=0.1, affine=True, track_running_stats=True)\n",
      "      (2): ReLU()\n",
      "    )\n",
      "    (4): Sequential(\n",
      "      (0): Conv2d(512, 1, kernel_size=(4, 4), stride=(1, 1), padding=(1, 1))\n",
      "      (1): BatchNorm2d(1, eps=1e-05, momentum=0.1, affine=True, track_running_stats=True)\n",
      "      (2): ReLU()\n",
      "    )\n",
      "  )\n",
      ")\n"
     ]
    }
   ]
  },
  {
   "cell_type": "code",
   "execution_count": null,
   "outputs": [],
   "source": [
    "def sample_images(x, y, mode):\n",
    "    fake_gen = gen(x)\n",
    "    x_grid = torchvision.utils.make_grid(x, nrow=1, normalize=True)\n",
    "    fake_grid = torchvision.utils.make_grid(fake_gen, nrow=1, normalize=True)\n",
    "    y_grid = torchvision.utils.make_grid(y, nrow=1, normalize=True)\n",
    "    res_img = torch.cat((x_grid, y_grid, fake_grid), dim=2)\n",
    "    if mode == \"test\":\n",
    "        torchvision.utils.save_image(res_img, \"./output_img_testset/epoch_{epoch}_batch_{batch_idx}.png\", normalize=False)\n",
    "    if mode == \"train\":\n",
    "        torchvision.utils.save_image(res_img, \"./output_img_trainset/epoch_{epoch}_batch_{batch_idx}.png\", normalize=False)\n",
    "    print(\"saving samples... done!\")\n",
    "\n",
    "def save_checkpoint(dict, path=\"model.pth.tar\"):\n",
    "    \"\"\"\n",
    "    save the model and optim through a dictionary\n",
    "     {\"model\": model.state_dict(), \"optim\": optim.state_dict()} (*)\n",
    "\n",
    "\n",
    "    params:\n",
    "        data: a dict of the structure (*) storing the model and optim\n",
    "\n",
    "    return:\n",
    "        None\n",
    "    \"\"\"\n",
    "    now = time.strftime(\"%D_%H:%M\")\n",
    "    print(f\"saving checkpoint at {now}, path is '{path}'\")\n",
    "    torch.save(dict, path)\n",
    "    print(\"saving model... done!\")\n"
   ],
   "metadata": {
    "collapsed": false,
    "pycharm": {
     "name": "#%%\n"
    }
   }
  },
  {
   "cell_type": "code",
   "source": [
    "for epoch in range(NUM_EPOCH):\n",
    "    for batch_idx, (x, y) in enumerate(train_dataloader):\n",
    "        x = x.to(DEVICE)\n",
    "        y = y.to(DEVICE)\n",
    "\n",
    "        gen.train()\n",
    "        disc.train()\n",
    "\n",
    "        opt_disc.zero_grad()\n",
    "        fake_gen = gen(x)\n",
    "        fake_disc = disc(torch.cat((x, fake_gen), dim=1))\n",
    "        fake_disc_loss = gan_criterion(fake_disc, torch.zeros_like(fake_disc).to(DEVICE))\n",
    "        real_disc = disc(torch.cat((x, y), dim=1))\n",
    "        real_disc_loss = gan_criterion(real_disc, torch.ones_like(real_disc).to(DEVICE))\n",
    "        disc_loss = fake_disc_loss + real_disc_loss\n",
    "        disc_loss.backward()\n",
    "        opt_disc.step()\n",
    "\n",
    "        opt_gen.zero_grad()\n",
    "        gen_gan_loss = gan_criterion(fake_disc, torch.ones_like(fake_disc).to(DEVICE))\n",
    "        gen_l1_loss = l1(fake_gen, y)\n",
    "        gen_loss = gen_gan_loss + gen_l1_loss\n",
    "        gen_loss.backward()\n",
    "        opt_gen.step()\n",
    "\n",
    "\n",
    "\n",
    "        if batch_idx % 5 == 0:\n",
    "          gen.eval()\n",
    "          disc.eval()\n",
    "          # GAN sample real and gen_result\n",
    "          \n",
    "          with torch.no_grad():\n",
    "             sample_images(train_x, train_y)\n",
    "             sample_images(test_x, test_y)\n",
    "    # saving models\n",
    "    model_checkpoint['gen']=gen.state_dict()\n",
    "    model_checkpoint['disc']=disc.state_dict()\n",
    "    save_checkpoint(model_checkpoint)\n",
    "\n"
   ],
   "metadata": {
    "id": "lXfSi6p6mQyb",
    "colab": {
     "base_uri": "https://localhost:8080/",
     "height": 1000
    },
    "executionInfo": {
     "status": "error",
     "timestamp": 1643551575365,
     "user_tz": -480,
     "elapsed": 16850,
     "user": {
      "displayName": "tao shao",
      "photoUrl": "https://lh3.googleusercontent.com/a-/AOh14Gh7VKvujGnKvxsIt7poP71nLcXe9HHvoq9IsZSw=s64",
      "userId": "08804023574068554959"
     }
    },
    "outputId": "ba16a968-844f-420c-dd5f-93a62ad584ea",
    "pycharm": {
     "name": "#%%\n"
    }
   },
   "execution_count": 18,
   "outputs": [
    {
     "output_type": "stream",
     "name": "stdout",
     "text": [
      "epoch:[ 0/15], batch[   0/  18], loss:[G:0.725996,D:0.663369]\n",
      "epoch:[ 0/15], batch[   5/  18], loss:[G:0.781138,D:0.636632]\n",
      "epoch:[ 0/15], batch[  10/  18], loss:[G:0.773712,D:0.633920]\n",
      "epoch:[ 0/15], batch[  15/  18], loss:[G:0.758603,D:0.634752]\n",
      "epoch:[ 1/15], batch[   0/  18], loss:[G:0.763198,D:0.676443]\n",
      "epoch:[ 1/15], batch[   5/  18], loss:[G:0.769749,D:0.676308]\n",
      "epoch:[ 1/15], batch[  10/  18], loss:[G:0.771881,D:0.643505]\n",
      "epoch:[ 1/15], batch[  15/  18], loss:[G:0.783569,D:0.634583]\n",
      "epoch:[ 2/15], batch[   0/  18], loss:[G:0.796363,D:0.626909]\n",
      "epoch:[ 2/15], batch[   5/  18], loss:[G:0.786412,D:0.617197]\n",
      "epoch:[ 2/15], batch[  10/  18], loss:[G:0.776984,D:0.616458]\n",
      "epoch:[ 2/15], batch[  15/  18], loss:[G:0.759707,D:0.643635]\n",
      "epoch:[ 3/15], batch[   0/  18], loss:[G:0.767642,D:0.669389]\n",
      "epoch:[ 3/15], batch[   5/  18], loss:[G:0.745110,D:0.636297]\n",
      "epoch:[ 3/15], batch[  10/  18], loss:[G:0.773973,D:0.616616]\n",
      "epoch:[ 3/15], batch[  15/  18], loss:[G:0.765419,D:0.617643]\n",
      "epoch:[ 4/15], batch[   0/  18], loss:[G:0.745146,D:0.631396]\n",
      "epoch:[ 4/15], batch[   5/  18], loss:[G:0.718952,D:0.628396]\n",
      "epoch:[ 4/15], batch[  10/  18], loss:[G:0.786682,D:0.650962]\n",
      "epoch:[ 4/15], batch[  15/  18], loss:[G:0.783201,D:0.641236]\n",
      "epoch:[ 5/15], batch[   0/  18], loss:[G:0.785842,D:0.656230]\n",
      "epoch:[ 5/15], batch[   5/  18], loss:[G:0.765066,D:0.623487]\n",
      "epoch:[ 5/15], batch[  10/  18], loss:[G:0.753079,D:0.650930]\n",
      "epoch:[ 5/15], batch[  15/  18], loss:[G:0.814032,D:0.617202]\n",
      "epoch:[ 6/15], batch[   0/  18], loss:[G:0.801524,D:0.617088]\n",
      "epoch:[ 6/15], batch[   5/  18], loss:[G:0.782844,D:0.614635]\n",
      "epoch:[ 6/15], batch[  10/  18], loss:[G:0.780991,D:0.611217]\n",
      "epoch:[ 6/15], batch[  15/  18], loss:[G:0.770018,D:0.616104]\n",
      "epoch:[ 7/15], batch[   0/  18], loss:[G:0.808662,D:0.618594]\n",
      "epoch:[ 7/15], batch[   5/  18], loss:[G:0.734940,D:0.687350]\n",
      "epoch:[ 7/15], batch[  10/  18], loss:[G:0.763367,D:0.664933]\n",
      "epoch:[ 7/15], batch[  15/  18], loss:[G:0.777516,D:0.636115]\n",
      "epoch:[ 8/15], batch[   0/  18], loss:[G:0.721730,D:0.657151]\n",
      "epoch:[ 8/15], batch[   5/  18], loss:[G:0.775144,D:0.664543]\n",
      "epoch:[ 8/15], batch[  10/  18], loss:[G:0.753292,D:0.635306]\n",
      "epoch:[ 8/15], batch[  15/  18], loss:[G:0.786505,D:0.619459]\n",
      "epoch:[ 9/15], batch[   0/  18], loss:[G:0.777517,D:0.638005]\n",
      "epoch:[ 9/15], batch[   5/  18], loss:[G:0.743920,D:0.688347]\n",
      "epoch:[ 9/15], batch[  10/  18], loss:[G:0.802930,D:0.612496]\n",
      "epoch:[ 9/15], batch[  15/  18], loss:[G:0.779686,D:0.610261]\n",
      "epoch:[10/15], batch[   0/  18], loss:[G:0.779417,D:0.621183]\n",
      "epoch:[10/15], batch[   5/  18], loss:[G:0.774722,D:0.612400]\n",
      "epoch:[10/15], batch[  10/  18], loss:[G:0.775540,D:0.615250]\n",
      "epoch:[10/15], batch[  15/  18], loss:[G:0.772380,D:0.620405]\n",
      "epoch:[11/15], batch[   0/  18], loss:[G:0.787172,D:0.612189]\n",
      "epoch:[11/15], batch[   5/  18], loss:[G:0.782213,D:0.608041]\n",
      "epoch:[11/15], batch[  10/  18], loss:[G:0.786925,D:0.613292]\n",
      "epoch:[11/15], batch[  15/  18], loss:[G:0.772679,D:0.614464]\n",
      "epoch:[12/15], batch[   0/  18], loss:[G:0.794542,D:0.626410]\n",
      "epoch:[12/15], batch[   5/  18], loss:[G:0.781922,D:0.616832]\n"
     ]
    },
    {
     "output_type": "error",
     "ename": "KeyboardInterrupt",
     "evalue": "ignored",
     "traceback": [
      "\u001B[0;31m---------------------------------------------------------------------------\u001B[0m",
      "\u001B[0;31mKeyboardInterrupt\u001B[0m                         Traceback (most recent call last)",
      "\u001B[0;32m<ipython-input-18-243f9559728a>\u001B[0m in \u001B[0;36m<module>\u001B[0;34m()\u001B[0m\n\u001B[1;32m     46\u001B[0m         \u001B[0mloss_gen\u001B[0m \u001B[0;34m=\u001B[0m \u001B[0mcriterion\u001B[0m\u001B[0;34m(\u001B[0m\u001B[0mfake_disc\u001B[0m\u001B[0;34m,\u001B[0m \u001B[0mtorch\u001B[0m\u001B[0;34m.\u001B[0m\u001B[0mones_like\u001B[0m\u001B[0;34m(\u001B[0m\u001B[0mfake_disc\u001B[0m\u001B[0;34m)\u001B[0m\u001B[0;34m)\u001B[0m\u001B[0;34m+\u001B[0m\u001B[0ml1\u001B[0m\u001B[0;34m(\u001B[0m\u001B[0mfake_gen\u001B[0m\u001B[0;34m,\u001B[0m\u001B[0my\u001B[0m\u001B[0;34m)\u001B[0m\u001B[0;34m\u001B[0m\u001B[0;34m\u001B[0m\u001B[0m\n\u001B[1;32m     47\u001B[0m         \u001B[0mgen\u001B[0m\u001B[0;34m.\u001B[0m\u001B[0mzero_grad\u001B[0m\u001B[0;34m(\u001B[0m\u001B[0;34m)\u001B[0m\u001B[0;34m\u001B[0m\u001B[0;34m\u001B[0m\u001B[0m\n\u001B[0;32m---> 48\u001B[0;31m         \u001B[0mloss_gen\u001B[0m\u001B[0;34m.\u001B[0m\u001B[0mbackward\u001B[0m\u001B[0;34m(\u001B[0m\u001B[0;34m)\u001B[0m\u001B[0;34m\u001B[0m\u001B[0;34m\u001B[0m\u001B[0m\n\u001B[0m\u001B[1;32m     49\u001B[0m         \u001B[0mopt_gen\u001B[0m\u001B[0;34m.\u001B[0m\u001B[0mstep\u001B[0m\u001B[0;34m(\u001B[0m\u001B[0;34m)\u001B[0m\u001B[0;34m\u001B[0m\u001B[0;34m\u001B[0m\u001B[0m\n\u001B[1;32m     50\u001B[0m \u001B[0;34m\u001B[0m\u001B[0m\n",
      "\u001B[0;32m/usr/local/lib/python3.7/dist-packages/torch/_tensor.py\u001B[0m in \u001B[0;36mbackward\u001B[0;34m(self, gradient, retain_graph, create_graph, inputs)\u001B[0m\n\u001B[1;32m    305\u001B[0m                 \u001B[0mcreate_graph\u001B[0m\u001B[0;34m=\u001B[0m\u001B[0mcreate_graph\u001B[0m\u001B[0;34m,\u001B[0m\u001B[0;34m\u001B[0m\u001B[0;34m\u001B[0m\u001B[0m\n\u001B[1;32m    306\u001B[0m                 inputs=inputs)\n\u001B[0;32m--> 307\u001B[0;31m         \u001B[0mtorch\u001B[0m\u001B[0;34m.\u001B[0m\u001B[0mautograd\u001B[0m\u001B[0;34m.\u001B[0m\u001B[0mbackward\u001B[0m\u001B[0;34m(\u001B[0m\u001B[0mself\u001B[0m\u001B[0;34m,\u001B[0m \u001B[0mgradient\u001B[0m\u001B[0;34m,\u001B[0m \u001B[0mretain_graph\u001B[0m\u001B[0;34m,\u001B[0m \u001B[0mcreate_graph\u001B[0m\u001B[0;34m,\u001B[0m \u001B[0minputs\u001B[0m\u001B[0;34m=\u001B[0m\u001B[0minputs\u001B[0m\u001B[0;34m)\u001B[0m\u001B[0;34m\u001B[0m\u001B[0;34m\u001B[0m\u001B[0m\n\u001B[0m\u001B[1;32m    308\u001B[0m \u001B[0;34m\u001B[0m\u001B[0m\n\u001B[1;32m    309\u001B[0m     \u001B[0;32mdef\u001B[0m \u001B[0mregister_hook\u001B[0m\u001B[0;34m(\u001B[0m\u001B[0mself\u001B[0m\u001B[0;34m,\u001B[0m \u001B[0mhook\u001B[0m\u001B[0;34m)\u001B[0m\u001B[0;34m:\u001B[0m\u001B[0;34m\u001B[0m\u001B[0;34m\u001B[0m\u001B[0m\n",
      "\u001B[0;32m/usr/local/lib/python3.7/dist-packages/torch/autograd/__init__.py\u001B[0m in \u001B[0;36mbackward\u001B[0;34m(tensors, grad_tensors, retain_graph, create_graph, grad_variables, inputs)\u001B[0m\n\u001B[1;32m    154\u001B[0m     Variable._execution_engine.run_backward(\n\u001B[1;32m    155\u001B[0m         \u001B[0mtensors\u001B[0m\u001B[0;34m,\u001B[0m \u001B[0mgrad_tensors_\u001B[0m\u001B[0;34m,\u001B[0m \u001B[0mretain_graph\u001B[0m\u001B[0;34m,\u001B[0m \u001B[0mcreate_graph\u001B[0m\u001B[0;34m,\u001B[0m \u001B[0minputs\u001B[0m\u001B[0;34m,\u001B[0m\u001B[0;34m\u001B[0m\u001B[0;34m\u001B[0m\u001B[0m\n\u001B[0;32m--> 156\u001B[0;31m         allow_unreachable=True, accumulate_grad=True)  # allow_unreachable flag\n\u001B[0m\u001B[1;32m    157\u001B[0m \u001B[0;34m\u001B[0m\u001B[0m\n\u001B[1;32m    158\u001B[0m \u001B[0;34m\u001B[0m\u001B[0m\n",
      "\u001B[0;31mKeyboardInterrupt\u001B[0m: "
     ]
    }
   ]
  }
 ],
 "metadata": {
  "colab": {
   "name": "pix2pix.ipynb",
   "provenance": [],
   "collapsed_sections": [],
   "authorship_tag": "ABX9TyPcP/nmzl6jCiKUMwfWB9Ih"
  },
  "kernelspec": {
   "display_name": "Python 3",
   "name": "python3"
  },
  "language_info": {
   "name": "python"
  },
  "accelerator": "GPU"
 },
 "nbformat": 4,
 "nbformat_minor": 0
}