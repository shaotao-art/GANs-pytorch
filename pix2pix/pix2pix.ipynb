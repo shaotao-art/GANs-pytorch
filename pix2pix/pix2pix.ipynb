{
 "cells": [
  {
   "cell_type": "markdown",
   "metadata": {},
   "source": [
    "## pix2pix\n",
    "\n",
    "* task: image to image translation\n",
    "* model: $G$ UNet like, $D$ patch GAN\n",
    "* GAN's loss: LSGAN loss + L1Loss"
   ]
  },
  {
   "cell_type": "code",
   "execution_count": 3,
   "metadata": {
    "executionInfo": {
     "elapsed": 6165,
     "status": "ok",
     "timestamp": 1643549998768,
     "user": {
      "displayName": "tao shao",
      "photoUrl": "https://lh3.googleusercontent.com/a-/AOh14Gh7VKvujGnKvxsIt7poP71nLcXe9HHvoq9IsZSw=s64",
      "userId": "08804023574068554959"
     },
     "user_tz": -480
    },
    "id": "cQLYegNFjXmu"
   },
   "outputs": [],
   "source": [
    "import torch\n",
    "from torch import nn\n",
    "import torchvision\n",
    "\n",
    "import torch.optim as optim\n",
    "from torch.utils.data import DataLoader,Dataset\n",
    "\n",
    "import torchvision.transforms as transforms\n",
    "from PIL import Image\n",
    "\n",
    "from tqdm import tqdm\n",
    "import os\n",
    "import time\n",
    "import numpy as np\n",
    "import matplotlib.pyplot as plt\n",
    "import sys\n",
    "sys.path.append(\"./../utils\")\n",
    "from utils import BasicConv, init_weight, set_seed, SEBlock\n",
    "set_seed(2022)\n",
    "%matplotlib inline\n"
   ]
  },
  {
   "cell_type": "markdown",
   "metadata": {
    "collapsed": false
   },
   "source": [
    "## download dataset"
   ]
  },
  {
   "cell_type": "code",
   "execution_count": 2,
   "metadata": {
    "colab": {
     "base_uri": "https://localhost:8080/"
    },
    "executionInfo": {
     "elapsed": 153997,
     "status": "ok",
     "timestamp": 1643550152743,
     "user": {
      "displayName": "tao shao",
      "photoUrl": "https://lh3.googleusercontent.com/a-/AOh14Gh7VKvujGnKvxsIt7poP71nLcXe9HHvoq9IsZSw=s64",
      "userId": "08804023574068554959"
     },
     "user_tz": -480
    },
    "id": "vVXaGVGakUqo",
    "outputId": "d5907e60-ef89-4e98-ae6b-66973146d396"
   },
   "outputs": [
    {
     "name": "stdout",
     "output_type": "stream",
     "text": [
      "--2022-01-30 13:39:57--  http://efrosgans.eecs.berkeley.edu/pix2pix/datasets/maps.tar.gz\n",
      "Resolving efrosgans.eecs.berkeley.edu (efrosgans.eecs.berkeley.edu)... 128.32.244.190\n",
      "Connecting to efrosgans.eecs.berkeley.edu (efrosgans.eecs.berkeley.edu)|128.32.244.190|:80... connected.\n",
      "HTTP request sent, awaiting response... 200 OK\n",
      "Length: 250242400 (239M) [application/x-gzip]\n",
      "Saving to: ‘maps.tar.gz’\n",
      "\n",
      "maps.tar.gz         100%[===================>] 238.65M   969KB/s    in 2m 33s  \n",
      "\n",
      "2022-01-30 13:42:31 (1.56 MB/s) - ‘maps.tar.gz’ saved [250242400/250242400]\n",
      "\n"
     ]
    }
   ],
   "source": [
    "! wget http://efrosgans.eecs.berkeley.edu/pix2pix/datasets/maps.tar.gz && tar -xzf ./maps.tar.gz"
   ]
  },
  {
   "cell_type": "markdown",
   "metadata": {
    "collapsed": false
   },
   "source": [
    "## define models"
   ]
  },
  {
   "cell_type": "markdown",
   "metadata": {},
   "source": [
    "### $G$'s model\n",
    "   1. the UNet like skip connection is important for quality of generated image\n",
    "   2. for efficience, i use seprable convolution in $G$"
   ]
  },
  {
   "cell_type": "code",
   "execution_count": 20,
   "metadata": {
    "executionInfo": {
     "elapsed": 93,
     "status": "ok",
     "timestamp": 1643550155674,
     "user": {
      "displayName": "tao shao",
      "photoUrl": "https://lh3.googleusercontent.com/a-/AOh14Gh7VKvujGnKvxsIt7poP71nLcXe9HHvoq9IsZSw=s64",
      "userId": "08804023574068554959"
     },
     "user_tz": -480
    },
    "id": "A0Tm4xq1luC0"
   },
   "outputs": [
    {
     "name": "stdout",
     "output_type": "stream",
     "text": [
      "model params num:774043\n",
      "input sizetorch.Size([8, 3, 256, 256]), output size: torch.Size([8, 3, 256, 256])\n"
     ]
    }
   ],
   "source": [
    "class ConvBlock(nn.Module):\n",
    "    def __init__(self, in_channel, inter_channel, out_channel, num_linear):\n",
    "        super(ConvBlock, self).__init__()\n",
    "        self.conv1 = nn.Sequential(\n",
    "            nn.Conv2d(in_channel, inter_channel, 1, 1, 0),\n",
    "            nn.LeakyReLU(0.2, inplace=True),\n",
    "            nn.Conv2d(inter_channel, inter_channel, 3, 1, 1, groups=inter_channel),\n",
    "            nn.LeakyReLU(0.2, inplace=True),\n",
    "        )\n",
    "\n",
    "        self.se = SEBlock(inter_channel, num_linear)\n",
    "\n",
    "        self.conv2 = nn.Sequential(\n",
    "            nn.Conv2d(inter_channel, out_channel, 1, 1, 0),\n",
    "            nn.LeakyReLU(0.2, inplace=True)\n",
    "        )\n",
    "\n",
    "    def forward(self, x):\n",
    "        resi = x\n",
    "        x = self.conv1(x)\n",
    "        x = self.se(x)\n",
    "        x = self.conv2(x)\n",
    "        return resi + x\n",
    "\n",
    "class Gen(nn.Module):\n",
    "    \"\"\"\n",
    "    input: (N, 3, 256, 256) input image\n",
    "    output: (N, 3, 256, 256) image generated\n",
    "    \"\"\"\n",
    "    def __init__(self) -> None:\n",
    "        super(Gen, self).__init__()\n",
    "        self.init_conv = nn.Sequential(\n",
    "            nn.Conv2d(3, 32, 5, 1, 2),\n",
    "            nn.LeakyReLU(0.2, True)\n",
    "        )\n",
    "        down1 = []\n",
    "        down1.append(nn.Conv2d(32, 32, 3, 1, 1))\n",
    "        down1.append(ConvBlock(32, 64, 32, 8))\n",
    "        self.down1 = nn.Sequential(*down1)\n",
    "\n",
    "        down2 = []\n",
    "        down2.append(nn.Conv2d(32, 64, 3, 2, 1))\n",
    "        down2.append(ConvBlock(64, 128, 64, 8))\n",
    "        self.down2 = nn.Sequential(*down2)\n",
    "\n",
    "        down3= []\n",
    "        down3.append(nn.Conv2d(64, 128, 3, 2, 1))\n",
    "        down3.append(ConvBlock(128, 256, 128, 16))\n",
    "        self.down3 = nn.Sequential(*down3)\n",
    "\n",
    "\n",
    "        self.bottleneck = nn.Sequential(\n",
    "            nn.Conv2d(128, 256, 3, 2, 1),\n",
    "            nn.LeakyReLU(0.2, True))\n",
    "        \n",
    "        self.up1_1 = nn.ConvTranspose2d(256, 128, 2, 2, 0) \n",
    "        self.up1_2 = ConvBlock(128, 256, 128, 8)\n",
    "\n",
    "        self.up2_1 = nn.ConvTranspose2d(128, 64, 2, 2, 0) \n",
    "        self.up2_2 = ConvBlock(64, 128, 64, 8)\n",
    "        \n",
    "        self.up3_1 = nn.ConvTranspose2d(64, 32, 2, 2, 0) \n",
    "        self.up3_2 = ConvBlock(32, 64, 32, 8)\n",
    "\n",
    "        self.final_conv = nn.Conv2d(32, 3, 3, 1, 1)\n",
    "\n",
    "\n",
    "    def forward(self, x):\n",
    "        x = self.init_conv(x)\n",
    "        d1 = self.down1(x)\n",
    "        d2 = self.down2(d1)\n",
    "        d3 = self.down3(d2)\n",
    "        x = self.bottleneck(d3)\n",
    "        x = self.up1_1(x) + d3\n",
    "        x = self.up1_2(x)\n",
    "        x = self.up2_1(x) + d2\n",
    "        x = self.up2_2(x)\n",
    "        x = self.up3_1(x) + d1\n",
    "        x = self.up3_2(x)\n",
    "        x = self.final_conv(x)\n",
    "        return x\n",
    "        \n",
    "\n",
    "def test_gen():\n",
    "    model = Gen()\n",
    "    x = torch.rand(8, 3, 256, 256)\n",
    "    print(f\"model params num:{sum(p.numel() for p in model.parameters() if p.requires_grad==True)}\")\n",
    "    print(f\"input size{x.shape}, output size: {model(x).shape}\")\n",
    "test_gen()\n"
   ]
  },
  {
   "cell_type": "markdown",
   "metadata": {},
   "source": [
    "### $D$'s model\n",
    "1. much like the D in DCGAN\n",
    "2. because, pix2pix is supervised learning(training with paired data), so we need to send origin image and G's according output to D to constrain that: G must follow the basic structure of origin image."
   ]
  },
  {
   "cell_type": "code",
   "execution_count": 22,
   "metadata": {
    "executionInfo": {
     "elapsed": 89,
     "status": "ok",
     "timestamp": 1643550155679,
     "user": {
      "displayName": "tao shao",
      "photoUrl": "https://lh3.googleusercontent.com/a-/AOh14Gh7VKvujGnKvxsIt7poP71nLcXe9HHvoq9IsZSw=s64",
      "userId": "08804023574068554959"
     },
     "user_tz": -480
    },
    "id": "7GHovKdFl5u4"
   },
   "outputs": [
    {
     "name": "stdout",
     "output_type": "stream",
     "text": [
      "model params num:426241\n",
      "input sizetorch.Size([8, 6, 256, 256]), output size: torch.Size([8, 1, 32, 32])\n"
     ]
    }
   ],
   "source": [
    "class Disc(nn.Module):\n",
    "    \"\"\"\n",
    "    input: (N, 6, 256, 256) x, y concated\n",
    "    output: (N, 1, 8, 8)\n",
    "    \"\"\"\n",
    "    def __init__(self, input_channel):\n",
    "        super(Disc, self).__init__()\n",
    "        main = []\n",
    "        main .append(BasicConv(input_channel, 256, 5, 2, leaky_relu=False))\n",
    "        main.append(BasicConv(256, 128, 3, 2, leaky_relu=False))\n",
    "        main.append(BasicConv(128, 64, 3, 2, leaky_relu=False))\n",
    "        main.append(BasicConv(64, 32, 3, 1, leaky_relu=False))\n",
    "        main.append(nn.Conv2d(32, 1, 3, 1, 1))\n",
    "        self.model = nn.Sequential(*main)\n",
    "        self.sigmoid = nn.Sigmoid()\n",
    "    def forward(self, x):\n",
    "        return self.sigmoid(self.model(x))\n",
    "def test_disc():\n",
    "    model = Disc(6)\n",
    "    x = torch.rand(8, 6, 256, 256)\n",
    "    print(f\"model params num:{sum(p.numel() for p in model.parameters() if p.requires_grad==True)}\")\n",
    "    print(f\"input size{x.shape}, output size: {model(x).shape}\")\n",
    "test_disc()"
   ]
  },
  {
   "cell_type": "code",
   "execution_count": 7,
   "metadata": {
    "executionInfo": {
     "elapsed": 86,
     "status": "ok",
     "timestamp": 1643550155683,
     "user": {
      "displayName": "tao shao",
      "photoUrl": "https://lh3.googleusercontent.com/a-/AOh14Gh7VKvujGnKvxsIt7poP71nLcXe9HHvoq9IsZSw=s64",
      "userId": "08804023574068554959"
     },
     "user_tz": -480
    },
    "id": "hcPZLiALl0Kg"
   },
   "outputs": [],
   "source": [
    "LEARNING_RATE_GEN = 2e-4\n",
    "LEARNING_RATE_DISC = 2e-4\n",
    "NUM_EPOCH = 15\n",
    "BATCH_SIZE = 64\n",
    "DEVICE = \"cuda\" if torch.cuda.is_available() else \"cpu\""
   ]
  },
  {
   "cell_type": "code",
   "execution_count": 8,
   "metadata": {
    "executionInfo": {
     "elapsed": 84,
     "status": "ok",
     "timestamp": 1643550155688,
     "user": {
      "displayName": "tao shao",
      "photoUrl": "https://lh3.googleusercontent.com/a-/AOh14Gh7VKvujGnKvxsIt7poP71nLcXe9HHvoq9IsZSw=s64",
      "userId": "08804023574068554959"
     },
     "user_tz": -480
    },
    "id": "SmIlsp8yGai3"
   },
   "outputs": [],
   "source": [
    "class MapDataset(Dataset):\n",
    "    def __init__(self, path, transform, train) -> None:\n",
    "        self.path = path\n",
    "        self.img_lst = os.listdir(self.path)\n",
    "        self.transform = transform\n",
    "\n",
    "    def __getitem__(self, idx):\n",
    "        if self.train == True:\n",
    "            img = Image.open(f\"{self.path}{self.img_lst[idx]}\")\n",
    "            if self.transform:\n",
    "              img = self.transform(img)\n",
    "            x = img[:, :, :256]\n",
    "            y = img[:, :, 256:]\n",
    "            return x, y\n",
    "\n",
    "    def __len__(self):\n",
    "        return len(self.img_lst)\n",
    "\n"
   ]
  },
  {
   "cell_type": "code",
   "execution_count": 9,
   "metadata": {
    "colab": {
     "base_uri": "https://localhost:8080/",
     "height": 296
    },
    "executionInfo": {
     "elapsed": 2029,
     "status": "ok",
     "timestamp": 1643550157640,
     "user": {
      "displayName": "tao shao",
      "photoUrl": "https://lh3.googleusercontent.com/a-/AOh14Gh7VKvujGnKvxsIt7poP71nLcXe9HHvoq9IsZSw=s64",
      "userId": "08804023574068554959"
     },
     "user_tz": -480
    },
    "id": "aGBSUwsqHFIQ",
    "outputId": "43ad9986-7947-43f8-bea5-f40a4647911b"
   },
   "outputs": [
    {
     "name": "stderr",
     "output_type": "stream",
     "text": [
      "Clipping input data to the valid range for imshow with RGB data ([0..1] for floats or [0..255] for integers).\n",
      "Clipping input data to the valid range for imshow with RGB data ([0..1] for floats or [0..255] for integers).\n"
     ]
    },
    {
     "name": "stdout",
     "output_type": "stream",
     "text": [
      "torch.Size([64, 3, 256, 256]) torch.Size([64, 3, 256, 256])\n"
     ]
    },
    {
     "data": {
      "text/plain": [
       "<matplotlib.image.AxesImage at 0x7fec7bc12450>"
      ]
     },
     "execution_count": 9,
     "metadata": {},
     "output_type": "execute_result"
    },
    {
     "data": {
      "image/png": "[encoded data removed]",
      "text/plain": [
       "<Figure size 432x288 with 2 Axes>"
      ]
     },
     "metadata": {
      "needs_background": "light"
     },
     "output_type": "display_data"
    }
   ],
   "source": [
    "train_transform = transforms.Compose([\n",
    "    transforms.Resize((256, 512)),\n",
    "    transforms.ToTensor()\n",
    "])\n",
    "train_dataset = MapDataset('./maps/train/', train_transform, True)\n",
    "train_dataloader = DataLoader(train_dataset, batch_size=BATCH_SIZE, shuffle=True)\n",
    "\n",
    "train_x, train_y = next(iter(train_dataloader))"
   ]
  },
  {
   "cell_type": "code",
   "execution_count": null,
   "metadata": {
    "colab": {
     "base_uri": "https://localhost:8080/"
    },
    "executionInfo": {
     "elapsed": 7800,
     "status": "ok",
     "timestamp": 1643550166774,
     "user": {
      "displayName": "tao shao",
      "photoUrl": "https://lh3.googleusercontent.com/a-/AOh14Gh7VKvujGnKvxsIt7poP71nLcXe9HHvoq9IsZSw=s64",
      "userId": "08804023574068554959"
     },
     "user_tz": -480
    },
    "id": "Q-7fzKc9lNFO",
    "outputId": "107f60d0-6130-48f9-a574-387c1537eb25"
   },
   "outputs": [],
   "source": [
    "gen = Gen(3).to(DEVICE)\n",
    "disc = Disc(3).to(DEVICE)\n",
    "\n",
    "opt_gen = optim.Adam(gen.parameters(), lr=LEARNING_RATE_GEN, betas=(0.5, 0.999))\n",
    "opt_disc = optim.Adam(disc.parameters(), lr=LEARNING_RATE_DISC, betas=(0.5, 0.999))\n",
    "\n",
    "gan_criterion = nn.MSELoss()\n",
    "l1 = nn.L1Loss()\n",
    "model_checkpoint = {\n",
    "    \"gen\":None,\n",
    "    \"disc\":None\n",
    "}"
   ]
  },
  {
   "cell_type": "code",
   "execution_count": null,
   "metadata": {
    "collapsed": false,
    "pycharm": {
     "name": "#%%\n"
    }
   },
   "outputs": [],
   "source": [
    "def sample_images(x, y, mode):\n",
    "    fake_gen = gen(x)\n",
    "    x_grid = torchvision.utils.make_grid(x, nrow=1, normalize=True)\n",
    "    fake_grid = torchvision.utils.make_grid(fake_gen, nrow=1, normalize=True)\n",
    "    y_grid = torchvision.utils.make_grid(y, nrow=1, normalize=True)\n",
    "    res_img = torch.cat((x_grid, y_grid, fake_grid), dim=2)\n",
    "    if mode == \"test\":\n",
    "        torchvision.utils.save_image(res_img, \"./output_img_testset/epoch_{epoch}_batch_{batch_idx}.png\", normalize=False)\n",
    "    if mode == \"train\":\n",
    "        torchvision.utils.save_image(res_img, \"./output_img_trainset/epoch_{epoch}_batch_{batch_idx}.png\", normalize=False)\n",
    "    print(\"saving samples... done!\")\n",
    "\n",
    "def save_checkpoint(dict, path=\"model.pth.tar\"):\n",
    "    \"\"\"\n",
    "    save the model and optim through a dictionary\n",
    "     {\"model\": model.state_dict(), \"optim\": optim.state_dict()} (*)\n",
    "\n",
    "\n",
    "    params:\n",
    "        data: a dict of the structure (*) storing the model and optim\n",
    "\n",
    "    return:\n",
    "        None\n",
    "    \"\"\"\n",
    "    now = time.strftime(\"%D_%H:%M\")\n",
    "    print(f\"saving checkpoint at {now}, path is '{path}'\")\n",
    "    torch.save(dict, path)\n",
    "    print(\"saving model... done!\")\n"
   ]
  },
  {
   "cell_type": "code",
   "execution_count": null,
   "metadata": {
    "colab": {
     "base_uri": "https://localhost:8080/",
     "height": 1000
    },
    "executionInfo": {
     "elapsed": 16850,
     "status": "error",
     "timestamp": 1643551575365,
     "user": {
      "displayName": "tao shao",
      "photoUrl": "https://lh3.googleusercontent.com/a-/AOh14Gh7VKvujGnKvxsIt7poP71nLcXe9HHvoq9IsZSw=s64",
      "userId": "08804023574068554959"
     },
     "user_tz": -480
    },
    "id": "lXfSi6p6mQyb",
    "outputId": "ba16a968-844f-420c-dd5f-93a62ad584ea",
    "pycharm": {
     "name": "#%%\n"
    }
   },
   "outputs": [],
   "source": [
    "for epoch in range(NUM_EPOCH):\n",
    "    for batch_idx, (x, y) in enumerate(train_dataloader):\n",
    "        x = x.to(DEVICE)\n",
    "        y = y.to(DEVICE)\n",
    "\n",
    "        gen.train()\n",
    "        disc.train()\n",
    "\n",
    "        opt_disc.zero_grad()\n",
    "        fake_gen = gen(x)\n",
    "        fake_disc = disc(torch.cat((x, fake_gen), dim=1))\n",
    "        fake_disc_loss = gan_criterion(fake_disc, torch.zeros_like(fake_disc).to(DEVICE))\n",
    "        real_disc = disc(torch.cat((x, y), dim=1))\n",
    "        real_disc_loss = gan_criterion(real_disc, torch.ones_like(real_disc).to(DEVICE))\n",
    "        disc_loss = fake_disc_loss + real_disc_loss\n",
    "        disc_loss.backward()\n",
    "        opt_disc.step()\n",
    "\n",
    "        opt_gen.zero_grad()\n",
    "        gen_gan_loss = gan_criterion(fake_disc, torch.ones_like(fake_disc).to(DEVICE))\n",
    "        gen_l1_loss = l1(fake_gen, y)\n",
    "        gen_loss = gen_gan_loss + gen_l1_loss\n",
    "        gen_loss.backward()\n",
    "        opt_gen.step()\n",
    "\n",
    "\n",
    "\n",
    "        if batch_idx % 5 == 0:\n",
    "          gen.eval()\n",
    "          disc.eval()\n",
    "          # GAN sample real and gen_result\n",
    "          \n",
    "          with torch.no_grad():\n",
    "             sample_images(train_x, train_y)\n",
    "             sample_images(test_x, test_y)\n",
    "    # saving models\n",
    "    model_checkpoint['gen']=gen.state_dict()\n",
    "    model_checkpoint['disc']=disc.state_dict()\n",
    "    save_checkpoint(model_checkpoint)\n",
    "\n"
   ]
  }
 ],
 "metadata": {
  "accelerator": "GPU",
  "colab": {
   "authorship_tag": "ABX9TyPcP/nmzl6jCiKUMwfWB9Ih",
   "collapsed_sections": [],
   "name": "pix2pix.ipynb",
   "provenance": []
  },
  "kernelspec": {
   "display_name": "Python 3",
   "name": "python3"
  },
  "language_info": {
   "codemirror_mode": {
    "name": "ipython",
    "version": 3
   },
   "file_extension": ".py",
   "mimetype": "text/x-python",
   "name": "python",
   "nbconvert_exporter": "python",
   "pygments_lexer": "ipython3",
   "version": "3.9.7"
  }
 },
 "nbformat": 4,
 "nbformat_minor": 0
}
